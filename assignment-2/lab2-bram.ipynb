{
 "cells": [
  {
   "cell_type": "markdown",
   "metadata": {},
   "source": [
    "# Lab 2: Inference in Graphical Models\n",
    "\n",
    "### Machine Learning 2 (2016/2017)\n",
    "\n",
    "* The lab exercises should be made in groups of two people or individually.\n",
    "* The hand-in deadline is Wednesday, May 10, 23:59.\n",
    "* Assignment should be sent to p.j.j.p.versteeg@uva.nl. The subject line of your email should be \"[ML2_2017] lab#_lastname1\\_lastname2\". \n",
    "* Put your and your teammates' names in the body of the email\n",
    "* Attach the .IPYNB (IPython Notebook) file containing your code and answers. Naming of the file follows the same rule as the subject line. For example, if the subject line is \"[ML2_2017] lab02\\_Bongers\\_Blom\", the attached file should be \"lab02\\_Bongers\\_Blom.ipynb\". Only use underscores (\"\\_\") to connect names, otherwise the files cannot be parsed.\n",
    "\n",
    "Notes on implementation:\n",
    "\n",
    "* You should write your code and answers in an IPython Notebook: http://ipython.org/notebook.html. If you have problems, please ask or e-mail Philip.\n",
    "* For some of the questions, you can write the code directly in the first code cell that provides the class structure.\n",
    "* Among the first lines of your notebook should be \"%pylab inline\". This imports all required modules, and your plots will appear inline.\n",
    "* NOTE: test your code and make sure we can run your notebook / scripts!"
   ]
  },
  {
   "cell_type": "markdown",
   "metadata": {},
   "source": [
    "### Introduction\n",
    "In this assignment, we will implement the sum-product and max-sum algorithms for factor graphs over discrete variables. The relevant theory is covered in chapter 8 of Bishop's PRML book, in particular section 8.4. Read this chapter carefuly before continuing!\n",
    "\n",
    "We will first implement sum-product and max-sum and apply it to a simple poly-tree structured factor graph for medical diagnosis. Then, we will implement a loopy version of the algorithms and use it for image denoising.\n",
    "\n",
    "For this assignment we recommended you stick to numpy ndarrays (constructed with np.array, np.zeros, np.ones, etc.) as opposed to numpy matrices, because arrays can store n-dimensional arrays whereas matrices only work for 2d arrays. We need n-dimensional arrays in order to store conditional distributions with more than 1 conditioning variable. If you want to perform matrix multiplication on arrays, use the np.dot function; all infix operators including *, +, -, work element-wise on arrays."
   ]
  },
  {
   "cell_type": "markdown",
   "metadata": {},
   "source": [
    "## Part 1: The sum-product algorithm\n",
    "\n",
    "We will implement a datastructure to store a factor graph and to facilitate computations on this graph. Recall that a factor graph consists of two types of nodes, factors and variables. Below you will find some classes for these node types to get you started. Carefully inspect this code and make sure you understand what it does; you will have to build on it later."
   ]
  },
  {
   "cell_type": "code",
   "execution_count": 2,
   "metadata": {},
   "outputs": [
    {
     "name": "stdout",
     "output_type": "stream",
     "text": [
      "Populating the interactive namespace from numpy and matplotlib\n"
     ]
    }
   ],
   "source": [
    "%pylab inline\n",
    "class Node(object):\n",
    "    \"\"\"\n",
    "    Base-class for Nodes in a factor graph. Only instantiate sub-classes of Node.\n",
    "    \"\"\"\n",
    "    def __init__(self, name):\n",
    "        # A name for this Node, for printing purposes\n",
    "        self.name = name\n",
    "        \n",
    "        # Neighbours in the graph, identified with their index in this list.\n",
    "        # i.e. self.neighbours contains neighbour 0 through len(self.neighbours) - 1.\n",
    "        self.neighbours = []\n",
    "        \n",
    "        # Reset the node-state (not the graph topology)\n",
    "        self.reset()\n",
    "        \n",
    "    def reset(self):\n",
    "        # Incoming messages; a dictionary mapping neighbours to messages.\n",
    "        # That is, it maps  Node -> np.ndarray.\n",
    "        self.in_msgs = {}\n",
    "        \n",
    "        # A set of neighbours for which this node has pending messages.\n",
    "        # We use a python set object so we don't have to worry about duplicates.\n",
    "        self.pending = set([])\n",
    "\n",
    "    def add_neighbour(self, nb):\n",
    "        self.neighbours.append(nb)\n",
    "\n",
    "    def send_sp_msg(self, other):\n",
    "        # To be implemented in subclass.\n",
    "        raise Exception('Method send_sp_msg not implemented in base-class Node')\n",
    "   \n",
    "    def send_ms_msg(self, other):\n",
    "        # To be implemented in subclass.\n",
    "        raise Exception('Method send_ms_msg not implemented in base-class Node')\n",
    "    \n",
    "    def receive_msg(self, other, msg):\n",
    "        # Store the incomming message, replacing previous messages from the same node\n",
    "        self.in_msgs[other.name] = msg\n",
    "        \n",
    "        # Add pending messages\n",
    "        self.pending.update([nb for nb in self.neighbours if nb is not other])\n",
    "    \n",
    "    def __str__(self):\n",
    "        # This is printed when using 'print node_instance'\n",
    "        return self.name\n",
    "\n",
    "\n",
    "class Variable(Node):\n",
    "    def __init__(self, name, num_states):\n",
    "        \"\"\"\n",
    "        Variable node constructor.\n",
    "        Args:\n",
    "            name: a name string for this node. Used for printing. \n",
    "            num_states: the number of states this variable can take.\n",
    "            Allowable states run from 0 through (num_states - 1).\n",
    "            For example, for a binary variable num_states=2,\n",
    "            and the allowable states are 0, 1.\n",
    "        \"\"\"\n",
    "        self.num_states = num_states\n",
    "        \n",
    "        # Call the base-class constructor\n",
    "        super(Variable, self).__init__(name)\n",
    "    \n",
    "    def set_observed(self, observed_state):\n",
    "        \"\"\"\n",
    "        Set this variable to an observed state.\n",
    "        Args:\n",
    "            observed_state: an integer value in [0, self.num_states - 1].\n",
    "        \"\"\"\n",
    "        # Observed state is represented as a 1-of-N variable\n",
    "        # Could be 0.0 for sum-product, but log(0.0) = -inf so a tiny value is preferable for max-sum\n",
    "        self.observed_state[:] = 0.000001\n",
    "        self.observed_state[observed_state] = 1.0\n",
    "        \n",
    "    def set_latent(self):\n",
    "        \"\"\"\n",
    "        Erase an observed state for this variable and consider it latent again.\n",
    "        \"\"\"\n",
    "        # No state is preferred, so set all entries of observed_state to 1.0\n",
    "        # Using this representation we need not differentiate between observed and latent\n",
    "        # variables when sending messages.\n",
    "        self.observed_state[:] = 1.0\n",
    "        \n",
    "    def reset(self):\n",
    "        super(Variable, self).reset()\n",
    "        self.observed_state = np.ones(self.num_states)\n",
    "        \n",
    "    def marginal(self, Z=None):\n",
    "        \"\"\"\n",
    "        Compute the marginal distribution of this Variable.\n",
    "        It is assumed that message passing has completed when this function is called.\n",
    "        Args:\n",
    "            Z: an optional normalization constant can be passed in. If None is passed, Z is computed.\n",
    "        Returns: marginal, Z. The first is a numpy array containing the normalized marginal distribution.\n",
    "         Z is either equal to the input Z, or computed in this function (if Z=None was passed).\n",
    "        \"\"\"\n",
    "        # Create an array of all incoming messages that are used for the margin computation\n",
    "        vectors = [self.in_msgs[nb.name] for nb in self.neighbours]\n",
    "        \n",
    "        # Compute unnormalized margin\n",
    "        margin = np.asarray(np.multiply.reduce(vectors))\n",
    "        \n",
    "        # Calculate the normalizing constant if it was not parsed as an argument\n",
    "        if Z is None:\n",
    "            Z = 1 / margin.sum()\n",
    "            \n",
    "        margin = Z * margin\n",
    "        \n",
    "        return margin, Z\n",
    "    \n",
    "    def send_sp_msg(self, other):\n",
    "        if other not in self.pending:\n",
    "            raise Exception('Trying to sent a message to non-pending node {}', other)\n",
    "        \n",
    "        messages_count = len([None for name in self.in_msgs.keys() if name is not other.name])\n",
    "        \n",
    "        if messages_count is len(self.neighbours) - 1:\n",
    "            i = self.neighbours.index(other)\n",
    "            \n",
    "            # TODO vectors in same order as neighbors\n",
    "            vectors = [self.in_msgs[nb.name] if nb.name in self.in_msgs else \n",
    "                       [1 for n in range(self.num_states)] for nb in self.neighbours]\n",
    "            \n",
    "            # Set the message neighbour to a vector of ones.\n",
    "            vectors[i] = [1 for n in range(self.num_states)]\n",
    "            \n",
    "            # Multiply and reduce the vectors\n",
    "            msg = np.multiply.reduce(vectors)\n",
    "            \n",
    "            # Remove node from pending messages\n",
    "            self.pending.remove(other)\n",
    "            \n",
    "            # Multiply the message with the observed state.\n",
    "            msg = msg * self.observed_state\n",
    "            \n",
    "            other.receive_msg(self, msg)\n",
    "\n",
    "   \n",
    "    def send_ms_msg(self, other):\n",
    "        if other not in self.pending:\n",
    "            raise Exception('Trying to sent a message to non-pending node {}', other)\n",
    "        \n",
    "        messages_count = len([None for name in self.in_msgs.keys() if name is not other.name])\n",
    "        \n",
    "        if messages_count is len(self.neighbours) - 1:\n",
    "            i = self.neighbours.index(other)\n",
    "            \n",
    "            # TODO vectors in same order as neighbors\n",
    "            vectors = [self.in_msgs[nb.name] if nb.name in self.in_msgs else \n",
    "                       [1 for n in range(self.num_states)] for nb in self.neighbours]\n",
    "            \n",
    "            # Set the message neighbour to a vector of ones.\n",
    "            vectors[i] = [1 for n in range(self.num_states)]\n",
    "            \n",
    "            # Multiply and reduce the vectors\n",
    "            msg = np.sum.reduce(vectors)\n",
    "            \n",
    "            # Remove node from pending messages\n",
    "            self.pending.remove(other)\n",
    "            \n",
    "            # Multiply the message with the observed state.\n",
    "            msg = msg * self.observed_state\n",
    "            \n",
    "            other.receive_msg(self, msg)\n",
    "\n",
    "class Factor(Node):\n",
    "    def __init__(self, name, f, neighbours):\n",
    "        \"\"\"\n",
    "        Factor node constructor.\n",
    "        Args:\n",
    "            name: a name string for this node. Used for printing\n",
    "            f: a numpy.ndarray with N axes, where N is the number of neighbours.\n",
    "               That is, the axes of f correspond to variables, and the index along that axes corresponds to a value of that variable.\n",
    "               Each axis of the array should have as many entries as the corresponding neighbour variable has states.\n",
    "            neighbours: a list of neighbouring Variables. Bi-directional connections are created.\n",
    "        \"\"\"\n",
    "        # Call the base-class constructor\n",
    "        super(Factor, self).__init__(name)\n",
    "\n",
    "        assert len(neighbours) == f.ndim, 'Factor function f should accept as many arguments as this Factor node has neighbours'\n",
    "        \n",
    "        for nb_ind in range(len(neighbours)):\n",
    "            nb = neighbours[nb_ind]\n",
    "            assert f.shape[nb_ind] == nb.num_states, 'The range of the factor function f is invalid for input %i %s' % (nb_ind, nb.name)\n",
    "            self.add_neighbour(nb)\n",
    "            nb.add_neighbour(self)\n",
    "\n",
    "        self.f = f\n",
    "        \n",
    "    def send_sp_msg(self, other):\n",
    "\n",
    "        if other not in self.pending:\n",
    "            raise Exception('Trying to sent a message to non-pending node {}', other)\n",
    "        \n",
    "        # Count the amount of recieved messages \n",
    "        messages_count = len([None for name in self.in_msgs.keys() if name is not other.name])\n",
    "        \n",
    "        if messages_count is len(self.neighbours) - 1:\n",
    "            i = self.neighbours.index(other)\n",
    "            \n",
    "            # Vectors in same order as neighbors\n",
    "            vectors = [self.in_msgs[nb.name] if nb.name in self.in_msgs else \n",
    "                       [1 for n in range(nb.num_states)] for nb in self.neighbours]\n",
    "            \n",
    "            # Set the message neighbour to a vector of ones.\n",
    "            vectors[i] = [1 for n in range(other.num_states)]\n",
    "            \n",
    "            # Shift the list of neighbours to the right to match the multi order\n",
    "            vectors = vectors[:i] +  vectors[i:]\n",
    "            \n",
    "            # Multiply and reduce the vectors\n",
    "            msg = self.f * np.multiply.reduce(np.ix_(*vectors))\n",
    "                        \n",
    "            # Sum and reduce msg to 1 axis\n",
    "            msg = msg.sum(axis=tuple(j for j in range(len(self.neighbours)) if j is not i))\n",
    "            \n",
    "            # Remove node from pending messages\n",
    "            self.pending.remove(other)\n",
    "                        \n",
    "            other.receive_msg(self, msg)\n",
    "   \n",
    "    def send_ms_msg(self, other):\n",
    "\n",
    "        if other not in self.pending:\n",
    "            raise Exception('Trying to sent a message to non-pending node {}', other)\n",
    "        \n",
    "        # Count the amount of recieved messages \n",
    "        messages_count = len([None for name in self.in_msgs.keys() if name is not other.name])\n",
    "        \n",
    "        if messages_count is len(self.neighbours) - 1:\n",
    "            i = self.neighbours.index(other)\n",
    "            \n",
    "            # Vectors in same order as neighbors\n",
    "            vectors = [self.in_msgs[nb.name] if nb.name in self.in_msgs else \n",
    "                       [1 for n in range(nb.num_states)] for nb in self.neighbours]\n",
    "            \n",
    "            # Set the message neighbour to a vector of ones.\n",
    "            vectors[i] = [1 for n in range(other.num_states)]\n",
    "            \n",
    "            # Shift the list of neighbours to the right to match the multi order\n",
    "            vectors = vectors[:i] +  vectors[i:]\n",
    "            \n",
    "            # Multiply and reduce the vectors\n",
    "            msg = np.log(self.f) * np.sum.reduce(np.ix_(*vectors))\n",
    "                        \n",
    "            # Sum and reduce msg to 1 axis\n",
    "            msg = msg.max(axis=tuple(j for j in range(len(self.neighbours)) if j is not i))\n",
    "            \n",
    "            # Remove node from pending messages\n",
    "            self.pending.remove(other)\n",
    "                        \n",
    "            other.receive_msg(self, msg)\n"
   ]
  },
  {
   "cell_type": "markdown",
   "metadata": {},
   "source": [
    "### 1.1 Instantiate network (10 points)\n",
    "Convert the directed graphical model (\"Bayesian Network\") shown below to a factor graph. Instantiate this graph by creating Variable and Factor instances and linking them according to the graph structure. \n",
    "To instantiate the factor graph, first create the Variable nodes and then create Factor nodes, passing a list of neighbour Variables to each Factor.\n",
    "Use the following prior and conditional probabilities.\n",
    "\n",
    "$$\n",
    "p(\\verb+Influenza+) = 0.05 \\\\\\\\\n",
    "p(\\verb+Smokes+) = 0.2 \\\\\\\\\n",
    "$$\n",
    "\n",
    "$$\n",
    "p(\\verb+SoreThroat+ = 1 | \\verb+Influenza+ = 1) = 0.3 \\\\\\\\\n",
    "p(\\verb+SoreThroat+ = 1 | \\verb+Influenza+ = 0) = 0.001 \\\\\\\\\n",
    "p(\\verb+Fever+ = 1| \\verb+Influenza+ = 1) = 0.9 \\\\\\\\\n",
    "p(\\verb+Fever+ = 1| \\verb+Influenza+ = 0) = 0.05 \\\\\\\\\n",
    "p(\\verb+Bronchitis+ = 1 | \\verb+Influenza+ = 1, \\verb+Smokes+ = 1) = 0.99 \\\\\\\\\n",
    "p(\\verb+Bronchitis+ = 1 | \\verb+Influenza+ = 1, \\verb+Smokes+ = 0) = 0.9 \\\\\\\\\n",
    "p(\\verb+Bronchitis+ = 1 | \\verb+Influenza+ = 0, \\verb+Smokes+ = 1) = 0.7 \\\\\\\\\n",
    "p(\\verb+Bronchitis+ = 1 | \\verb+Influenza+ = 0, \\verb+Smokes+ = 0) = 0.0001 \\\\\\\\\n",
    "p(\\verb+Coughing+ = 1| \\verb+Bronchitis+ = 1) = 0.8 \\\\\\\\\n",
    "p(\\verb+Coughing+ = 1| \\verb+Bronchitis+ = 0) = 0.07 \\\\\\\\\n",
    "p(\\verb+Wheezing+ = 1| \\verb+Bronchitis+ = 1) = 0.6 \\\\\\\\\n",
    "p(\\verb+Wheezing+ = 1| \\verb+Bronchitis+ = 0) = 0.001 \\\\\\\\\n",
    "$$"
   ]
  },
  {
   "cell_type": "code",
   "execution_count": 3,
   "metadata": {},
   "outputs": [
    {
     "data": {
      "image/png": "[encoded data removed]",
      "text/plain": [
       "<IPython.core.display.Image object>"
      ]
     },
     "execution_count": 3,
     "metadata": {},
     "output_type": "execute_result"
    }
   ],
   "source": [
    "from IPython.core.display import Image \n",
    "Image(filename='bn.png') "
   ]
  },
  {
   "cell_type": "code",
   "execution_count": 4,
   "metadata": {
    "collapsed": true
   },
   "outputs": [],
   "source": [
    "def build_variable_nodes(names, num_states):\n",
    "    nodes = {}\n",
    "    for name in names:\n",
    "        nodes[name] = Variable(name, num_states)\n",
    "        \n",
    "    return nodes\n",
    "\n",
    "def build_factor_nodes(names, var_nodes):\n",
    "    nodes = {}\n",
    "    for name in names.keys():\n",
    "        nbs = [var_nodes[n] for n in names[name]['nbs']]\n",
    "        f = np.asarray([[n, 1 - n] for n in names[name]['p_1']])\n",
    "        f_shape = np.empty([i.num_states for i in nbs]).shape\n",
    "        f = f.T.reshape(f_shape)\n",
    "        \n",
    "        nodes[name] = Factor(name, f, nbs)\n",
    "        \n",
    "    return nodes\n",
    "\n",
    "var_node_names = ['Influenza', 'Smokes', 'SoreThroat', 'Fever', 'Bronchitis', 'Coughting', 'Wheezing']\n",
    "fac_nodes = {'f_a': {'nbs': ['Influenza'], 'p_1': [0.05]}, \n",
    "             'f_b': {'nbs': ['Smokes'], 'p_1': [0.2]},\n",
    "             'f_c': {'nbs': ['SoreThroat', 'Influenza'], 'p_1':[0.3, 0.001]},\n",
    "             'f_d': {'nbs': ['Fever', 'Influenza'], 'p_1': [0.9, 0.05]},\n",
    "             'f_e':{'nbs': ['Bronchitis', 'Influenza', 'Smokes'], 'p_1': [0.99, 0.9, 0.7, 0.0001]},\n",
    "             'f_f':{'nbs': ['Coughting', 'Bronchitis'], 'p_1': [0.8, 0.07]},\n",
    "             'f_g': {'nbs': ['Wheezing', 'Bronchitis'], 'p_1': [0.6, 0.001]}}\n",
    "\n",
    "var_nodes = build_variable_nodes(var_node_names, 2)\n",
    "fac_nodes = build_factor_nodes(fac_nodes, var_nodes)"
   ]
  },
  {
   "cell_type": "code",
   "execution_count": 5,
   "metadata": {},
   "outputs": [
    {
     "name": "stdout",
     "output_type": "stream",
     "text": [
      "{<__main__.Variable object at 0x7fa0edfe7a20>}\n",
      "{'f_a': array([ 0.05,  0.95])}\n",
      "set()\n"
     ]
    }
   ],
   "source": [
    "fac = fac_nodes['f_a']\n",
    "nb = fac.neighbours[0]\n",
    "fac.pending.update([nb])\n",
    "print(fac.pending)\n",
    "fac.send_sp_msg(nb)\n",
    "\n",
    "print(nb.in_msgs)\n",
    "print(fac.pending)\n",
    "\n",
    "\n"
   ]
  },
  {
   "cell_type": "markdown",
   "metadata": {},
   "source": [
    "### 1.2 Factor to variable messages (20 points)\n",
    "Write a method `send_sp_msg(self, other)` for the Factor class, that checks if all the information required to pass a message to Variable `other` is present, computes the message and sends it to `other`. \"Sending\" here simply means calling the `receive_msg` function of the receiving node (we will implement this later). The message itself should be represented as a numpy array (np.array) whose length is equal to the number of states of the variable.\n",
    "\n",
    "An elegant and efficient solution can be obtained using the n-way outer product of vectors. This product takes n vectors $\\mathbf{x}^{(1)}, \\ldots, \\mathbf{x}^{(n)}$ and computes a $n$-dimensional tensor (ndarray) whose element $i_0,i_1,...,i_n$ is given by $\\prod_j \\mathbf{x}^{(j)}_{i_j}$. In python, this is realized as `np.multiply.reduce(np.ix_(*vectors))` for a python list `vectors` of 1D numpy arrays. Try to figure out how this statement works -- it contains some useful functional programming techniques. Another function that you may find useful in computing the message is `np.tensordot`."
   ]
  },
  {
   "cell_type": "code",
   "execution_count": 6,
   "metadata": {},
   "outputs": [
    {
     "name": "stdout",
     "output_type": "stream",
     "text": [
      "([3, 4], [1, 1], [1, 2])\n",
      "[3 8]\n"
     ]
    }
   ],
   "source": [
    "A = np.array(range(1, 9))\n",
    "A.shape = (2, 2, 2)\n",
    "a_1 = np.array((1,2))\n",
    "a_1.shape = (1, 2)\n",
    "a_2 = np.array((3,4))\n",
    "a_2.shape = (1, 2)\n",
    "\n",
    "a_2 = [1,2]\n",
    "a_1 = [3,4]\n",
    "a_0 = [1,1]\n",
    "\n",
    "a = (a_0, a_1, a_2)\n",
    "\n",
    "a = (a_1, a_0, a_2)\n",
    "\n",
    "print(a)\n",
    "\n",
    "# print(a)\n",
    "# A_ = A * a_1\n",
    "# A__ = A_ * a_2.T\n",
    "print(np.multiply.reduce(a))\n",
    "# (A * np.multiply.reduce(np.ix_(*a))).sum(axis=(1, 2))\n",
    "\n",
    "# a = (a_1, a_0, a_2)\n",
    "# print(A * np.multiply.reduce(np.ix_(*a)))\n",
    "\n",
    "# (A * np.multiply.reduce(np.ix_(*a))).sum(axis=(0, 2))\n",
    "\n",
    "# print(np.ix_(*a))\n",
    "# print(np.reduce(np.ix_(*a)))\n",
    "# np.multiply.reduce(np.ix_([0,1], [2,4]))\n",
    "# A__.sum(axis=1).sum(axis=1)\n",
    "\n",
    "# def calculate_f()\n",
    "#     A = np.array(range(1, 9))\n",
    "#     A.shape = (2, 2, 2)\n",
    "#     a = [a_0, a_1, a_2]\n",
    "    \n",
    "    \n",
    "#     (A * np.multiply.reduce(np.ix_(*a))).sum(axis=(0, 2))\n"
   ]
  },
  {
   "cell_type": "code",
   "execution_count": 7,
   "metadata": {
    "collapsed": true
   },
   "outputs": [],
   "source": [
    "nbs = var_nodes['Bronchitis'].neighbours\n",
    "nb = nbs[1]\n",
    "i = nbs.index(nb)\n",
    "\n",
    "\n",
    "\n"
   ]
  },
  {
   "cell_type": "markdown",
   "metadata": {},
   "source": [
    "### 1.3 Variable to factor messages (10 points)\n",
    "\n",
    "Write a method `send_sp_message(self, other)` for the Variable class, that checks if all the information required to pass a message to Variable var is present, computes the message and sends it to factor."
   ]
  },
  {
   "cell_type": "markdown",
   "metadata": {},
   "source": [
    "### 1.4 Compute marginal (10 points)\n",
    "Later in this assignment, we will implement message passing schemes to do inference. Once the message passing has completed, we will want to compute local marginals for each variable.\n",
    "Write the method `marginal` for the Variable class, that computes a marginal distribution over that node."
   ]
  },
  {
   "cell_type": "markdown",
   "metadata": {},
   "source": [
    "### 1.5 Receiving messages (10 points)\n",
    "In order to implement the loopy and non-loopy message passing algorithms, we need some way to determine which nodes are ready to send messages to which neighbours. To do this in a way that works for both loopy and non-loopy algorithms, we make use of the concept of \"pending messages\", which is explained in Bishop (8.4.7): \n",
    "\"we will say that a (variable or factor)\n",
    "node a has a message pending on its link to a node b if node a has received any\n",
    "message on any of its other links since the last time it send (sic) a message to b. Thus,\n",
    "when a node receives a message on one of its links, this creates pending messages\n",
    "on all of its other links.\"\n",
    "\n",
    "Keep in mind that for the non-loopy algorithm, nodes may not have received any messages on some or all of their links. Therefore, before we say node a has a pending message for node b, we must check that node a has received all messages needed to compute the message that is to be sent to b.\n",
    "\n",
    "Modify the function `receive_msg`, so that it updates the self.pending variable as described above. The member self.pending is a set that is to be filled with Nodes to which self has pending messages. Modify the `send_msg` functions to remove pending messages as they are sent."
   ]
  },
  {
   "cell_type": "markdown",
   "metadata": {},
   "source": [
    "### 1.6 Inference Engine (10 points)\n",
    "Write a function `sum_product(node_list)` that runs the sum-product message passing algorithm on a tree-structured factor graph with given nodes. The input parameter `node_list` is a list of all Node instances in the graph, which is assumed to be ordered correctly. That is, the list starts with a leaf node, which can always send a message. Subsequent nodes in `node_list` should be capable of sending a message when the pending messages of preceding nodes in the list have been sent. The sum-product algorithm then proceeds by passing over the list from beginning to end, sending all pending messages at the nodes it encounters. Then, in reverse order, the algorithm traverses the list again and again sends all pending messages at each node as it is encountered. For this to work, you must initialize pending messages for all the leaf nodes, e.g. `influenza_prior.pending.add(influenza)`, where `influenza_prior` is a Factor node corresponding the the prior, `influenza` is a Variable node and the only connection of `influenza_prior` goes to `influenza`.\n",
    "\n",
    "\n"
   ]
  },
  {
   "cell_type": "code",
   "execution_count": 8,
   "metadata": {},
   "outputs": [
    {
     "name": "stdout",
     "output_type": "stream",
     "text": [
      "Influenza\n"
     ]
    }
   ],
   "source": [
    "# YOUR ANSWER HERE\n",
    "[f_a,f_b,f_c,f_d,f_e,f_f,f_g] = [fac_nodes[f] for f in fac_nodes.keys()]\n",
    "[Influenza, Smokes, SoreThroat, Fever, Bronchitis, Coughing, Wheezing] = [var_nodes[f] for f in var_nodes.keys()]\n",
    "\n",
    "print(Influenza)\n",
    "#leafNodes = [f_a,f_b, SoreThroat, Fever,Coughing, Wheezing] \n",
    "#innerNodes = [Smokes, f_c,f_d,f_f,f_g,Bronchitis,f_e,Influenza ]\n",
    "\n",
    "node_list = [f_a,f_b, SoreThroat, Fever,Coughing, Wheezing,Smokes, f_c,f_d,f_f,f_g,Bronchitis,f_e,Influenza ]\n",
    "def sum_product(node_list):\n",
    "    #This algorithm assumes the node_list is sorted w.r.t. the 'connectivenes' of nodes\n",
    "    #It assumes the the least connected nodes (leaf nodes) are first and the most connected nodes are last\n",
    "    \n",
    "    # Initialize the pending messages of the leaf nodes\n",
    "    for node in node_list:\n",
    "        #Check if the node is a leaf node\n",
    "        if len(node.neighbours) == 1:\n",
    "        #Add the only neighbour as a pending message\n",
    "            node.pending.add(node.neighbours[0])\n",
    "        \n",
    "    # Send first wave of messages (From all leave nodes towards the most inner node)\n",
    "    for node in node_list:\n",
    "        for pending_node in list(node.pending):\n",
    "            node.send_sp_msg(pending_node)\n",
    "            \n",
    "    # Send second wave of messages (From the most inner node towards the leave nodes)\n",
    "    for node in reversed(node_list):\n",
    "        for pending_node in list(node.pending):\n",
    "            node.send_sp_msg(pending_node)\n",
    "            \n",
    "sum_product(node_list)"
   ]
  },
  {
   "cell_type": "markdown",
   "metadata": {},
   "source": [
    "### 1.7 Observed variables and probabilistic queries (15 points)\n",
    "We will now use the inference engine to answer probabilistic queries. That is, we will set certain variables to observed values, and obtain the marginals over latent variables. We have already provided functions `set_observed` and `set_latent` that manage a member of Variable called `observed_state`. Modify the `Variable.send_msg` and `Variable.marginal` routines that you wrote before, to use `observed_state` so as to get the required marginals when some nodes are observed."
   ]
  },
  {
   "cell_type": "markdown",
   "metadata": {},
   "source": [
    "### 1.8 Sum-product and MAP states (5 points)\n",
    "A maximum a posteriori state (MAP-state) is an assignment of all latent variables that maximizes the probability of latent variables given observed variables:\n",
    "$$\n",
    "\\mathbf{x}_{\\verb+MAP+} = \\arg\\max _{\\mathbf{x}} p(\\mathbf{x} | \\mathbf{y})\n",
    "$$\n",
    "Could we use the sum-product algorithm to obtain a MAP state? If yes, how? If no, why not?\n"
   ]
  },
  {
   "cell_type": "markdown",
   "metadata": {},
   "source": [
    "__YOUR ANSWER HERE__"
   ]
  },
  {
   "cell_type": "markdown",
   "metadata": {},
   "source": [
    "## Part 2: The max-sum algorithm\n",
    "Next, we implement the max-sum algorithm as described in section 8.4.5 of Bishop."
   ]
  },
  {
   "cell_type": "markdown",
   "metadata": {},
   "source": [
    "### 2.1 Factor to variable messages (10 points)\n",
    "Implement the function `Factor.send_ms_msg` that sends Factor -> Variable messages for the max-sum algorithm. It is analogous to the `Factor.send_sp_msg` function you implemented before."
   ]
  },
  {
   "cell_type": "markdown",
   "metadata": {},
   "source": [
    "### 2.2 Variable to factor messages (10 points)\n",
    "Implement the `Variable.send_ms_msg` function that sends Variable -> Factor messages for the max-sum algorithm."
   ]
  },
  {
   "cell_type": "markdown",
   "metadata": {},
   "source": [
    "### 2.3 Find a MAP state (10 points)\n",
    "\n",
    "Using the same message passing schedule we used for sum-product, implement the max-sum algorithm. For simplicity, we will ignore issues relating to non-unique maxima. So there is no need to implement backtracking; the MAP state is obtained by a per-node maximization (eq. 8.98 in Bishop). Make sure your algorithm works with both latent and observed variables."
   ]
  },
  {
   "cell_type": "code",
   "execution_count": 9,
   "metadata": {
    "collapsed": true
   },
   "outputs": [],
   "source": [
    "# YOUR ANSWER HERE"
   ]
  },
  {
   "cell_type": "markdown",
   "metadata": {},
   "source": [
    "## Part 3: Image Denoising and Loopy BP\n",
    "\n",
    "Next, we will use a loopy version of max-sum to perform denoising on a binary image. The model itself is discussed in Bishop 8.3.3, but we will use loopy max-sum instead of Iterative Conditional Modes as Bishop does.\n",
    "\n",
    "The following code creates some toy data: `im` is a quite large binary image and `test_im` is a smaller synthetic binary image. Noisy versions are also provided."
   ]
  },
  {
   "cell_type": "code",
   "execution_count": 10,
   "metadata": {},
   "outputs": [
    {
     "data": {
      "text/plain": [
       "<matplotlib.image.AxesImage at 0x7fa11adb90b8>"
      ]
     },
     "execution_count": 10,
     "metadata": {},
     "output_type": "execute_result"
    },
    {
     "data": {
      "image/png": "[encoded data removed]",
      "text/plain": [
       "<matplotlib.figure.Figure at 0x7fa0eeb66f28>"
      ]
     },
     "metadata": {},
     "output_type": "display_data"
    },
    {
     "data": {
      "image/png": "[encoded data removed]",
      "text/plain": [
       "<matplotlib.figure.Figure at 0x7fa11b921d68>"
      ]
     },
     "metadata": {},
     "output_type": "display_data"
    },
    {
     "data": {
      "image/png": "[encoded data removed]",
      "text/plain": [
       "<matplotlib.figure.Figure at 0x7fa11ae78908>"
      ]
     },
     "metadata": {},
     "output_type": "display_data"
    },
    {
     "data": {
      "image/png": "[encoded data removed]",
      "text/plain": [
       "<matplotlib.figure.Figure at 0x7fa11adff2b0>"
      ]
     },
     "metadata": {},
     "output_type": "display_data"
    }
   ],
   "source": [
    "from pylab import imread, gray\n",
    "# Load the image and binarize\n",
    "im = np.mean(imread('dalmatian1.png'), axis=2) > 0.5\n",
    "imshow(im)\n",
    "gray()\n",
    "\n",
    "# Add some noise\n",
    "noise = np.random.rand(*im.shape) > 0.9\n",
    "noise_im = np.logical_xor(noise, im)\n",
    "figure()\n",
    "imshow(noise_im)\n",
    "\n",
    "test_im = np.zeros((10,10))\n",
    "#test_im[5:8, 3:8] = 1.0\n",
    "#test_im[5,5] = 1.0\n",
    "figure()\n",
    "imshow(test_im)\n",
    "\n",
    "# Add some noise\n",
    "noise = np.random.rand(*test_im.shape) > 0.9\n",
    "noise_test_im = np.logical_xor(noise, test_im)\n",
    "figure()\n",
    "imshow(noise_test_im)"
   ]
  },
  {
   "cell_type": "markdown",
   "metadata": {},
   "source": [
    "### 3.1 Construct factor graph (10 points)\n",
    "Convert the Markov Random Field (Bishop, fig. 8.31) to a factor graph and instantiate it."
   ]
  },
  {
   "cell_type": "code",
   "execution_count": 6,
   "metadata": {
    "collapsed": true
   },
   "outputs": [],
   "source": [
    "# YOUR ANSWER HERE"
   ]
  },
  {
   "cell_type": "markdown",
   "metadata": {},
   "source": [
    "### 3.2 Loopy max-sum (10 points)\n",
    "Implement the loopy max-sum algorithm, by passing messages from randomly chosen nodes iteratively until no more pending messages are created or a maximum number of iterations is reached. \n",
    "\n",
    "Think of a good way to initialize the messages in the graph."
   ]
  },
  {
   "cell_type": "code",
   "execution_count": 7,
   "metadata": {
    "collapsed": true
   },
   "outputs": [],
   "source": [
    "# YOUR ANSWER hErE"
   ]
  }
 ],
 "metadata": {
  "anaconda-cloud": {},
  "kernelspec": {
   "display_name": "Python 3",
   "language": "python",
   "name": "python3"
  },
  "language_info": {
   "codemirror_mode": {
    "name": "ipython",
    "version": 3
   },
   "file_extension": ".py",
   "mimetype": "text/x-python",
   "name": "python",
   "nbconvert_exporter": "python",
   "pygments_lexer": "ipython3",
   "version": "3.6.0"
  }
 },
 "nbformat": 4,
 "nbformat_minor": 1
}
